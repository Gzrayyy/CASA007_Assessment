{
 "cells": [
  {
   "cell_type": "code",
   "execution_count": 9,
   "id": "7544a4c2-ba73-41ec-a4ab-9067db66da51",
   "metadata": {},
   "outputs": [],
   "source": [
    "import pandas as pd\n",
    "\n",
    "import seaborn as sns\n",
    "\n",
    "from sklearn.linear_model import LinearRegression\n",
    "\n",
    "import statsmodels.api as sm\n",
    "from statsmodels.stats.outliers_influence import variance_inflation_factor \n",
    "from statsmodels.tools.tools import add_constant\n",
    "\n",
    "import scipy.stats as sps\n",
    "\n",
    "import numpy as np\n",
    "\n",
    "import sklearn\n",
    "from sklearn.linear_model import LogisticRegression\n",
    "from sklearn.metrics import confusion_matrix\n",
    "import sklearn.cluster as sklc\n",
    "import sklearn.metrics as sklm\n",
    "from sklearn.preprocessing import RobustScaler\n",
    "from sklearn.preprocessing import MinMaxScaler\n",
    "\n",
    "import matplotlib.cm\n",
    "import matplotlib.pyplot as plt\n",
    "from matplotlib import colors\n",
    "\n",
    "import seaborn as sn\n",
    "\n",
    "pd.set_option('display.max_rows', 300) # specifies number of rows to show\n",
    "pd.options.display.float_format = '{:40,.4f}'.format # specifies default number format to 4 decimal places\n",
    "plt.style.use('ggplot') # specifies that graphs should use ggplot styling\n",
    "%matplotlib inline"
   ]
  },
  {
   "cell_type": "code",
   "execution_count": 10,
   "id": "3193ee90-9d1f-4e40-a7c7-840afb6c21ac",
   "metadata": {},
   "outputs": [
    {
     "name": "stdout",
     "output_type": "stream",
     "text": [
      "0.13.2\n"
     ]
    }
   ],
   "source": [
    "import statsmodels\n",
    "print(statsmodels.__version__)"
   ]
  },
  {
   "cell_type": "markdown",
   "id": "90f78e25-1ddc-42ff-a0c0-b033438d0706",
   "metadata": {},
   "source": [
    "# read the file"
   ]
  },
  {
   "cell_type": "code",
   "execution_count": 13,
   "id": "99a81994-c21c-4fde-bf0f-eb2b9caf0e4a",
   "metadata": {},
   "outputs": [],
   "source": [
    "birth_data = pd.read_csv('https://raw.githubusercontent.com/Gzrayyy/CASA007_Assessment/main/dt.csv')"
   ]
  },
  {
   "cell_type": "code",
   "execution_count": 14,
   "id": "13409f45-5624-4e62-b9a7-ae73bb39f06b",
   "metadata": {},
   "outputs": [],
   "source": [
    "birth_data['working_hour'] = birth_data['working_hour'].astype(np.float64)\n",
    "birth_data['house_price'] = birth_data['house_price'].astype(np.float64)"
   ]
  },
  {
   "cell_type": "code",
   "execution_count": 15,
   "id": "15614c5a-27bd-444c-bb1a-b5118e4aa358",
   "metadata": {},
   "outputs": [
    {
     "data": {
      "text/html": [
       "<div>\n",
       "<style scoped>\n",
       "    .dataframe tbody tr th:only-of-type {\n",
       "        vertical-align: middle;\n",
       "    }\n",
       "\n",
       "    .dataframe tbody tr th {\n",
       "        vertical-align: top;\n",
       "    }\n",
       "\n",
       "    .dataframe thead th {\n",
       "        text-align: right;\n",
       "    }\n",
       "</style>\n",
       "<table border=\"1\" class=\"dataframe\">\n",
       "  <thead>\n",
       "    <tr style=\"text-align: right;\">\n",
       "      <th></th>\n",
       "      <th>year</th>\n",
       "      <th>month</th>\n",
       "      <th>birth_number</th>\n",
       "      <th>CPI</th>\n",
       "      <th>employ_rate(%)</th>\n",
       "      <th>unemploy_male(%)</th>\n",
       "      <th>unemploy_famale(%)</th>\n",
       "      <th>gender_pay_gap(%)</th>\n",
       "      <th>working_hour</th>\n",
       "      <th>house_price</th>\n",
       "    </tr>\n",
       "  </thead>\n",
       "  <tbody>\n",
       "    <tr>\n",
       "      <th>0</th>\n",
       "      <td>2011</td>\n",
       "      <td>Jan</td>\n",
       "      <td>4851</td>\n",
       "      <td>4.0000</td>\n",
       "      <td>71.0000</td>\n",
       "      <td>9.2000</td>\n",
       "      <td>6.6000</td>\n",
       "      <td>10.5000</td>\n",
       "      <td>36.4000</td>\n",
       "      <td>150,490.0000</td>\n",
       "    </tr>\n",
       "    <tr>\n",
       "      <th>1</th>\n",
       "      <td>2011</td>\n",
       "      <td>Feb</td>\n",
       "      <td>4382</td>\n",
       "      <td>4.4000</td>\n",
       "      <td>71.0000</td>\n",
       "      <td>9.3000</td>\n",
       "      <td>6.8000</td>\n",
       "      <td>10.5000</td>\n",
       "      <td>36.4000</td>\n",
       "      <td>147,862.0000</td>\n",
       "    </tr>\n",
       "    <tr>\n",
       "      <th>2</th>\n",
       "      <td>2011</td>\n",
       "      <td>Mar</td>\n",
       "      <td>4797</td>\n",
       "      <td>4.0000</td>\n",
       "      <td>70.8000</td>\n",
       "      <td>9.1000</td>\n",
       "      <td>6.5000</td>\n",
       "      <td>10.5000</td>\n",
       "      <td>36.4000</td>\n",
       "      <td>142,143.0000</td>\n",
       "    </tr>\n",
       "    <tr>\n",
       "      <th>3</th>\n",
       "      <td>2011</td>\n",
       "      <td>Apr</td>\n",
       "      <td>4765</td>\n",
       "      <td>4.5000</td>\n",
       "      <td>71.4000</td>\n",
       "      <td>8.9000</td>\n",
       "      <td>6.7000</td>\n",
       "      <td>10.5000</td>\n",
       "      <td>36.3000</td>\n",
       "      <td>151,501.0000</td>\n",
       "    </tr>\n",
       "    <tr>\n",
       "      <th>4</th>\n",
       "      <td>2011</td>\n",
       "      <td>May</td>\n",
       "      <td>4984</td>\n",
       "      <td>4.5000</td>\n",
       "      <td>71.6000</td>\n",
       "      <td>8.6000</td>\n",
       "      <td>6.8000</td>\n",
       "      <td>10.5000</td>\n",
       "      <td>36.3000</td>\n",
       "      <td>154,317.0000</td>\n",
       "    </tr>\n",
       "  </tbody>\n",
       "</table>\n",
       "</div>"
      ],
      "text/plain": [
       "   year month  birth_number                                      CPI  \\\n",
       "0  2011   Jan          4851                                   4.0000   \n",
       "1  2011   Feb          4382                                   4.4000   \n",
       "2  2011   Mar          4797                                   4.0000   \n",
       "3  2011   Apr          4765                                   4.5000   \n",
       "4  2011   May          4984                                   4.5000   \n",
       "\n",
       "                            employ_rate(%)  \\\n",
       "0                                  71.0000   \n",
       "1                                  71.0000   \n",
       "2                                  70.8000   \n",
       "3                                  71.4000   \n",
       "4                                  71.6000   \n",
       "\n",
       "                          unemploy_male(%)  \\\n",
       "0                                   9.2000   \n",
       "1                                   9.3000   \n",
       "2                                   9.1000   \n",
       "3                                   8.9000   \n",
       "4                                   8.6000   \n",
       "\n",
       "                        unemploy_famale(%)  \\\n",
       "0                                   6.6000   \n",
       "1                                   6.8000   \n",
       "2                                   6.5000   \n",
       "3                                   6.7000   \n",
       "4                                   6.8000   \n",
       "\n",
       "                         gender_pay_gap(%)  \\\n",
       "0                                  10.5000   \n",
       "1                                  10.5000   \n",
       "2                                  10.5000   \n",
       "3                                  10.5000   \n",
       "4                                  10.5000   \n",
       "\n",
       "                              working_hour  \\\n",
       "0                                  36.4000   \n",
       "1                                  36.4000   \n",
       "2                                  36.4000   \n",
       "3                                  36.3000   \n",
       "4                                  36.3000   \n",
       "\n",
       "                               house_price  \n",
       "0                             150,490.0000  \n",
       "1                             147,862.0000  \n",
       "2                             142,143.0000  \n",
       "3                             151,501.0000  \n",
       "4                             154,317.0000  "
      ]
     },
     "execution_count": 15,
     "metadata": {},
     "output_type": "execute_result"
    }
   ],
   "source": [
    "birth_data.head()"
   ]
  },
  {
   "cell_type": "code",
   "execution_count": 16,
   "id": "6979003d-7711-4ae8-8ea8-c8988bb39f52",
   "metadata": {},
   "outputs": [],
   "source": [
    "birth_data_numeric = pd.get_dummies(birth_data)"
   ]
  },
  {
   "cell_type": "code",
   "execution_count": 17,
   "id": "a211816b-da29-47ed-a65a-2c5b1747bfd0",
   "metadata": {
    "tags": []
   },
   "outputs": [
    {
     "name": "stdout",
     "output_type": "stream",
     "text": [
      "<class 'pandas.core.frame.DataFrame'>\n",
      "RangeIndex: 132 entries, 0 to 131\n",
      "Data columns (total 21 columns):\n",
      " #   Column              Non-Null Count  Dtype  \n",
      "---  ------              --------------  -----  \n",
      " 0   year                132 non-null    int64  \n",
      " 1   birth_number        132 non-null    int64  \n",
      " 2   CPI                 132 non-null    float64\n",
      " 3   employ_rate(%)      132 non-null    float64\n",
      " 4   unemploy_male(%)    132 non-null    float64\n",
      " 5   unemploy_famale(%)  132 non-null    float64\n",
      " 6   gender_pay_gap(%)   132 non-null    float64\n",
      " 7   working_hour        132 non-null    float64\n",
      " 8   house_price         132 non-null    float64\n",
      " 9   month_Apr           132 non-null    uint8  \n",
      " 10  month_Aug           132 non-null    uint8  \n",
      " 11  month_Dec           132 non-null    uint8  \n",
      " 12  month_Feb           132 non-null    uint8  \n",
      " 13  month_Jan           132 non-null    uint8  \n",
      " 14  month_Jul           132 non-null    uint8  \n",
      " 15  month_Jun           132 non-null    uint8  \n",
      " 16  month_Mar           132 non-null    uint8  \n",
      " 17  month_May           132 non-null    uint8  \n",
      " 18  month_Nov           132 non-null    uint8  \n",
      " 19  month_Oct           132 non-null    uint8  \n",
      " 20  month_Sept          132 non-null    uint8  \n",
      "dtypes: float64(7), int64(2), uint8(12)\n",
      "memory usage: 11.0 KB\n"
     ]
    }
   ],
   "source": [
    "birth_data_numeric.info()"
   ]
  },
  {
   "cell_type": "code",
   "execution_count": 18,
   "id": "8542056e-2952-476c-a4aa-e0b9ee681975",
   "metadata": {},
   "outputs": [
    {
     "name": "stdout",
     "output_type": "stream",
     "text": [
      "<class 'pandas.core.frame.DataFrame'>\n",
      "RangeIndex: 132 entries, 0 to 131\n",
      "Data columns (total 20 columns):\n",
      " #   Column              Non-Null Count  Dtype  \n",
      "---  ------              --------------  -----  \n",
      " 0   year                132 non-null    int64  \n",
      " 1   birth_number        132 non-null    int64  \n",
      " 2   CPI                 132 non-null    float64\n",
      " 3   employ_rate(%)      132 non-null    float64\n",
      " 4   unemploy_male(%)    132 non-null    float64\n",
      " 5   unemploy_famale(%)  132 non-null    float64\n",
      " 6   gender_pay_gap(%)   132 non-null    float64\n",
      " 7   working_hour        132 non-null    float64\n",
      " 8   house_price         132 non-null    float64\n",
      " 9   month_Apr           132 non-null    uint8  \n",
      " 10  month_Aug           132 non-null    uint8  \n",
      " 11  month_Dec           132 non-null    uint8  \n",
      " 12  month_Feb           132 non-null    uint8  \n",
      " 13  month_Jul           132 non-null    uint8  \n",
      " 14  month_Jun           132 non-null    uint8  \n",
      " 15  month_Mar           132 non-null    uint8  \n",
      " 16  month_May           132 non-null    uint8  \n",
      " 17  month_Nov           132 non-null    uint8  \n",
      " 18  month_Oct           132 non-null    uint8  \n",
      " 19  month_Sept          132 non-null    uint8  \n",
      "dtypes: float64(7), int64(2), uint8(11)\n",
      "memory usage: 10.8 KB\n"
     ]
    }
   ],
   "source": [
    "birth_data_final = birth_data_numeric.drop(['month_Jan'], axis=1)\n",
    "\n",
    "# double check the result\n",
    "birth_data_final.info()"
   ]
  },
  {
   "cell_type": "code",
   "execution_count": 19,
   "id": "4bc9b8bc-1c47-4ebf-ad70-f908319c5e99",
   "metadata": {},
   "outputs": [
    {
     "data": {
      "text/plain": [
       "Text(0.5, 1.0, 'Correlation Matrix')"
      ]
     },
     "execution_count": 19,
     "metadata": {},
     "output_type": "execute_result"
    },
    {
     "data": {
      "image/png": "[encoded data removed]",
      "text/plain": [
       "<Figure size 1152x864 with 2 Axes>"
      ]
     },
     "metadata": {
      "needs_background": "light"
     },
     "output_type": "display_data"
    }
   ],
   "source": [
    "df = birth_data_final\n",
    "plt.rcParams[\"axes.grid\"] = False\n",
    "f = plt.figure(figsize=(16, 12))\n",
    "plt.matshow(df.corr(), fignum=f.number)\n",
    "plt.xticks(range(df.shape[1]), df.columns, fontsize=12, rotation=90)\n",
    "plt.yticks(range(df.shape[1]), df.columns, fontsize=12)\n",
    "cb = plt.colorbar()\n",
    "cb.ax.tick_params(labelsize=14)\n",
    "plt.title('Correlation Matrix', fontsize=16)"
   ]
  },
  {
   "cell_type": "markdown",
   "id": "968e36a7-14f3-4a7b-8c6f-9a4ee8235436",
   "metadata": {},
   "source": [
    "# Using VIF"
   ]
  },
  {
   "cell_type": "code",
   "execution_count": 20,
   "id": "cd931c6e-d3c5-4a85-835b-5954c6bc7c7b",
   "metadata": {},
   "outputs": [],
   "source": [
    "# calculating VIF\n",
    "# This function is adjusted from: https://stackoverflow.com/a/51329496/4667568\n",
    "from statsmodels.stats.outliers_influence import variance_inflation_factor \n",
    "from statsmodels.tools.tools import add_constant\n",
    "\n",
    "def drop_column_using_vif_(df, thresh=5):\n",
    "    '''\n",
    "    Calculates VIF each feature in a pandas dataframe, and repeatedly drop the columns with the highest VIF\n",
    "    A constant must be added to variance_inflation_factor or the results will be incorrect\n",
    "\n",
    "    :param df: the pandas dataframe containing only the predictor features, not the response variable\n",
    "    :param thresh: (default 5) the threshould VIF value. If the VIF of a variable is greater than thresh, it should be removed from the dataframe\n",
    "    :return: dataframe with multicollinear features removed\n",
    "    '''\n",
    "    while True:\n",
    "        # adding a constatnt item to the data. add_constant is a function from statsmodels (see the import above)\n",
    "        df_with_const = add_constant(df)\n",
    "\n",
    "        vif_df = pd.Series([variance_inflation_factor(df_with_const.values, i) \n",
    "               for i in range(df_with_const.shape[1])], name= \"VIF\",\n",
    "              index=df_with_const.columns).to_frame()\n",
    "\n",
    "        # drop the const\n",
    "        vif_df = vif_df.drop('const')\n",
    "        \n",
    "        # if the largest VIF is above the thresh, remove a variable with the largest VIF\n",
    "        # If there are multiple variabels with VIF>thresh, only one of them is removed. This is because we want to keep as many variables as possible\n",
    "        if vif_df.VIF.max() > thresh:\n",
    "            # If there are multiple variables with the maximum VIF, choose the first one\n",
    "            index_to_drop = vif_df.index[vif_df.VIF == vif_df.VIF.max()].tolist()[0]\n",
    "            print('Dropping: {}'.format(index_to_drop))\n",
    "            df = df.drop(columns = index_to_drop)\n",
    "        else:\n",
    "            # No VIF is above threshold. Exit the loop\n",
    "            break\n",
    "\n",
    "    return df"
   ]
  },
  {
   "cell_type": "code",
   "execution_count": 22,
   "id": "f34cdbb0-442e-4252-85a7-07942874dc9d",
   "metadata": {},
   "outputs": [
    {
     "name": "stdout",
     "output_type": "stream",
     "text": [
      "Dropping: year\n",
      "Dropping: unemploy_male(%)\n",
      "Dropping: employ_rate(%)\n",
      "Dropping: house_price\n"
     ]
    }
   ],
   "source": [
    "birth_data_VIF = drop_column_using_vif_(birth_data_final.drop('birth_number', axis=1))"
   ]
  },
  {
   "cell_type": "code",
   "execution_count": 23,
   "id": "d2ca1ad9-49c4-400f-ac52-525a496bc8e3",
   "metadata": {},
   "outputs": [
    {
     "name": "stdout",
     "output_type": "stream",
     "text": [
      "<class 'pandas.core.frame.DataFrame'>\n",
      "RangeIndex: 132 entries, 0 to 131\n",
      "Data columns (total 15 columns):\n",
      " #   Column              Non-Null Count  Dtype  \n",
      "---  ------              --------------  -----  \n",
      " 0   CPI                 132 non-null    float64\n",
      " 1   unemploy_famale(%)  132 non-null    float64\n",
      " 2   gender_pay_gap(%)   132 non-null    float64\n",
      " 3   working_hour        132 non-null    float64\n",
      " 4   month_Apr           132 non-null    uint8  \n",
      " 5   month_Aug           132 non-null    uint8  \n",
      " 6   month_Dec           132 non-null    uint8  \n",
      " 7   month_Feb           132 non-null    uint8  \n",
      " 8   month_Jul           132 non-null    uint8  \n",
      " 9   month_Jun           132 non-null    uint8  \n",
      " 10  month_Mar           132 non-null    uint8  \n",
      " 11  month_May           132 non-null    uint8  \n",
      " 12  month_Nov           132 non-null    uint8  \n",
      " 13  month_Oct           132 non-null    uint8  \n",
      " 14  month_Sept          132 non-null    uint8  \n",
      "dtypes: float64(4), uint8(11)\n",
      "memory usage: 5.7 KB\n"
     ]
    }
   ],
   "source": [
    "birth_data_VIF.info()"
   ]
  },
  {
   "cell_type": "code",
   "execution_count": 26,
   "id": "5aceb36e-37e3-4d03-aa10-4ea614d1c4d6",
   "metadata": {},
   "outputs": [
    {
     "data": {
      "text/html": [
       "<table class=\"simpletable\">\n",
       "<caption>OLS Regression Results</caption>\n",
       "<tr>\n",
       "  <th>Dep. Variable:</th>      <td>birth_number</td>   <th>  R-squared:         </th> <td>   0.885</td>\n",
       "</tr>\n",
       "<tr>\n",
       "  <th>Model:</th>                   <td>OLS</td>       <th>  Adj. R-squared:    </th> <td>   0.870</td>\n",
       "</tr>\n",
       "<tr>\n",
       "  <th>Method:</th>             <td>Least Squares</td>  <th>  F-statistic:       </th> <td>   59.55</td>\n",
       "</tr>\n",
       "<tr>\n",
       "  <th>Date:</th>             <td>Mon, 09 Jan 2023</td> <th>  Prob (F-statistic):</th> <td>3.43e-47</td>\n",
       "</tr>\n",
       "<tr>\n",
       "  <th>Time:</th>                 <td>13:10:39</td>     <th>  Log-Likelihood:    </th> <td> -826.36</td>\n",
       "</tr>\n",
       "<tr>\n",
       "  <th>No. Observations:</th>      <td>   132</td>      <th>  AIC:               </th> <td>   1685.</td>\n",
       "</tr>\n",
       "<tr>\n",
       "  <th>Df Residuals:</th>          <td>   116</td>      <th>  BIC:               </th> <td>   1731.</td>\n",
       "</tr>\n",
       "<tr>\n",
       "  <th>Df Model:</th>              <td>    15</td>      <th>                     </th>     <td> </td>   \n",
       "</tr>\n",
       "<tr>\n",
       "  <th>Covariance Type:</th>      <td>nonrobust</td>    <th>                     </th>     <td> </td>   \n",
       "</tr>\n",
       "</table>\n",
       "<table class=\"simpletable\">\n",
       "<tr>\n",
       "           <td></td>             <th>coef</th>     <th>std err</th>      <th>t</th>      <th>P>|t|</th>  <th>[0.025</th>    <th>0.975]</th>  \n",
       "</tr>\n",
       "<tr>\n",
       "  <th>const</th>              <td>  -34.7364</td> <td>  470.735</td> <td>   -0.074</td> <td> 0.941</td> <td> -967.086</td> <td>  897.613</td>\n",
       "</tr>\n",
       "<tr>\n",
       "  <th>CPI</th>                <td>   -4.4913</td> <td>    9.563</td> <td>   -0.470</td> <td> 0.639</td> <td>  -23.433</td> <td>   14.450</td>\n",
       "</tr>\n",
       "<tr>\n",
       "  <th>unemploy_famale(%)</th> <td>  103.8186</td> <td>   11.629</td> <td>    8.928</td> <td> 0.000</td> <td>   80.786</td> <td>  126.851</td>\n",
       "</tr>\n",
       "<tr>\n",
       "  <th>gender_pay_gap(%)</th>  <td>  122.2248</td> <td>   25.847</td> <td>    4.729</td> <td> 0.000</td> <td>   71.032</td> <td>  173.418</td>\n",
       "</tr>\n",
       "<tr>\n",
       "  <th>working_hour</th>       <td>   76.6295</td> <td>   16.800</td> <td>    4.561</td> <td> 0.000</td> <td>   43.355</td> <td>  109.904</td>\n",
       "</tr>\n",
       "<tr>\n",
       "  <th>month_Apr</th>          <td>  -26.3952</td> <td>   57.612</td> <td>   -0.458</td> <td> 0.648</td> <td> -140.503</td> <td>   87.712</td>\n",
       "</tr>\n",
       "<tr>\n",
       "  <th>month_Aug</th>          <td>  305.3678</td> <td>   57.619</td> <td>    5.300</td> <td> 0.000</td> <td>  191.246</td> <td>  419.489</td>\n",
       "</tr>\n",
       "<tr>\n",
       "  <th>month_Dec</th>          <td>   12.1676</td> <td>   57.757</td> <td>    0.211</td> <td> 0.834</td> <td> -102.227</td> <td>  126.562</td>\n",
       "</tr>\n",
       "<tr>\n",
       "  <th>month_Feb</th>          <td> -322.8498</td> <td>   57.606</td> <td>   -5.604</td> <td> 0.000</td> <td> -436.945</td> <td> -208.754</td>\n",
       "</tr>\n",
       "<tr>\n",
       "  <th>month_Jul</th>          <td>  403.3820</td> <td>   57.610</td> <td>    7.002</td> <td> 0.000</td> <td>  289.277</td> <td>  517.487</td>\n",
       "</tr>\n",
       "<tr>\n",
       "  <th>month_Jun</th>          <td>  174.4002</td> <td>   57.629</td> <td>    3.026</td> <td> 0.003</td> <td>   60.258</td> <td>  288.542</td>\n",
       "</tr>\n",
       "<tr>\n",
       "  <th>month_Mar</th>          <td>   48.0013</td> <td>   57.612</td> <td>    0.833</td> <td> 0.406</td> <td>  -66.107</td> <td>  162.110</td>\n",
       "</tr>\n",
       "<tr>\n",
       "  <th>month_May</th>          <td>  166.4442</td> <td>   57.631</td> <td>    2.888</td> <td> 0.005</td> <td>   52.299</td> <td>  280.590</td>\n",
       "</tr>\n",
       "<tr>\n",
       "  <th>month_Nov</th>          <td>  -24.4321</td> <td>   57.739</td> <td>   -0.423</td> <td> 0.673</td> <td> -138.791</td> <td>   89.927</td>\n",
       "</tr>\n",
       "<tr>\n",
       "  <th>month_Oct</th>          <td>  208.2608</td> <td>   57.665</td> <td>    3.612</td> <td> 0.000</td> <td>   94.047</td> <td>  322.474</td>\n",
       "</tr>\n",
       "<tr>\n",
       "  <th>month_Sept</th>         <td>  277.0253</td> <td>   57.616</td> <td>    4.808</td> <td> 0.000</td> <td>  162.910</td> <td>  391.141</td>\n",
       "</tr>\n",
       "</table>\n",
       "<table class=\"simpletable\">\n",
       "<tr>\n",
       "  <th>Omnibus:</th>       <td> 7.171</td> <th>  Durbin-Watson:     </th> <td>   0.919</td>\n",
       "</tr>\n",
       "<tr>\n",
       "  <th>Prob(Omnibus):</th> <td> 0.028</td> <th>  Jarque-Bera (JB):  </th> <td>   6.799</td>\n",
       "</tr>\n",
       "<tr>\n",
       "  <th>Skew:</th>          <td>-0.490</td> <th>  Prob(JB):          </th> <td>  0.0334</td>\n",
       "</tr>\n",
       "<tr>\n",
       "  <th>Kurtosis:</th>      <td> 3.526</td> <th>  Cond. No.          </th> <td>1.51e+03</td>\n",
       "</tr>\n",
       "</table><br/><br/>Notes:<br/>[1] Standard Errors assume that the covariance matrix of the errors is correctly specified.<br/>[2] The condition number is large, 1.51e+03. This might indicate that there are<br/>strong multicollinearity or other numerical problems."
      ],
      "text/plain": [
       "<class 'statsmodels.iolib.summary.Summary'>\n",
       "\"\"\"\n",
       "                            OLS Regression Results                            \n",
       "==============================================================================\n",
       "Dep. Variable:           birth_number   R-squared:                       0.885\n",
       "Model:                            OLS   Adj. R-squared:                  0.870\n",
       "Method:                 Least Squares   F-statistic:                     59.55\n",
       "Date:                Mon, 09 Jan 2023   Prob (F-statistic):           3.43e-47\n",
       "Time:                        13:10:39   Log-Likelihood:                -826.36\n",
       "No. Observations:                 132   AIC:                             1685.\n",
       "Df Residuals:                     116   BIC:                             1731.\n",
       "Df Model:                          15                                         \n",
       "Covariance Type:            nonrobust                                         \n",
       "======================================================================================\n",
       "                         coef    std err          t      P>|t|      [0.025      0.975]\n",
       "--------------------------------------------------------------------------------------\n",
       "const                -34.7364    470.735     -0.074      0.941    -967.086     897.613\n",
       "CPI                   -4.4913      9.563     -0.470      0.639     -23.433      14.450\n",
       "unemploy_famale(%)   103.8186     11.629      8.928      0.000      80.786     126.851\n",
       "gender_pay_gap(%)    122.2248     25.847      4.729      0.000      71.032     173.418\n",
       "working_hour          76.6295     16.800      4.561      0.000      43.355     109.904\n",
       "month_Apr            -26.3952     57.612     -0.458      0.648    -140.503      87.712\n",
       "month_Aug            305.3678     57.619      5.300      0.000     191.246     419.489\n",
       "month_Dec             12.1676     57.757      0.211      0.834    -102.227     126.562\n",
       "month_Feb           -322.8498     57.606     -5.604      0.000    -436.945    -208.754\n",
       "month_Jul            403.3820     57.610      7.002      0.000     289.277     517.487\n",
       "month_Jun            174.4002     57.629      3.026      0.003      60.258     288.542\n",
       "month_Mar             48.0013     57.612      0.833      0.406     -66.107     162.110\n",
       "month_May            166.4442     57.631      2.888      0.005      52.299     280.590\n",
       "month_Nov            -24.4321     57.739     -0.423      0.673    -138.791      89.927\n",
       "month_Oct            208.2608     57.665      3.612      0.000      94.047     322.474\n",
       "month_Sept           277.0253     57.616      4.808      0.000     162.910     391.141\n",
       "==============================================================================\n",
       "Omnibus:                        7.171   Durbin-Watson:                   0.919\n",
       "Prob(Omnibus):                  0.028   Jarque-Bera (JB):                6.799\n",
       "Skew:                          -0.490   Prob(JB):                       0.0334\n",
       "Kurtosis:                       3.526   Cond. No.                     1.51e+03\n",
       "==============================================================================\n",
       "\n",
       "Notes:\n",
       "[1] Standard Errors assume that the covariance matrix of the errors is correctly specified.\n",
       "[2] The condition number is large, 1.51e+03. This might indicate that there are\n",
       "strong multicollinearity or other numerical problems.\n",
       "\"\"\""
      ]
     },
     "execution_count": 26,
     "metadata": {},
     "output_type": "execute_result"
    }
   ],
   "source": [
    "model_birth_data = sm.OLS(endog=birth_data_final['birth_number'], exog=sm.add_constant(birth_data_VIF)).fit()\n",
    "model_birth_data.summary()"
   ]
  },
  {
   "cell_type": "markdown",
   "id": "9e3c428a-7228-4694-8c78-5ba5ebcf919c",
   "metadata": {},
   "source": [
    "# Residual Analysis"
   ]
  },
  {
   "cell_type": "code",
   "execution_count": 27,
   "id": "b9e73d59-d9a3-4856-89ad-62e8fee02ea8",
   "metadata": {},
   "outputs": [
    {
     "data": {
      "image/png": "[encoded data removed]",
      "text/plain": [
       "<Figure size 432x288 with 1 Axes>"
      ]
     },
     "metadata": {
      "needs_background": "light"
     },
     "output_type": "display_data"
    }
   ],
   "source": [
    "plt.scatter(model_birth_data.fittedvalues, model_birth_data.resid)\n",
    "plt.xlabel('Fitted birth data')\n",
    "plt.ylabel('Residual')\n",
    "plt.title('Residual vs. Fitted birth data')\n",
    "plt.show()"
   ]
  },
  {
   "cell_type": "code",
   "execution_count": null,
   "id": "7df901ae-deaf-4303-afcd-9212ae4c7774",
   "metadata": {},
   "outputs": [],
   "source": []
  }
 ],
 "metadata": {
  "kernelspec": {
   "display_name": "Python 3 (ipykernel)",
   "language": "python",
   "name": "python3"
  },
  "language_info": {
   "codemirror_mode": {
    "name": "ipython",
    "version": 3
   },
   "file_extension": ".py",
   "mimetype": "text/x-python",
   "name": "python",
   "nbconvert_exporter": "python",
   "pygments_lexer": "ipython3",
   "version": "3.10.5"
  },
  "vscode": {
   "interpreter": {
    "hash": "88279d2366fe020547cde40dd65aa0e3aa662a6ec1f3ca12d88834876c85e1a6"
   }
  }
 },
 "nbformat": 4,
 "nbformat_minor": 5
}
